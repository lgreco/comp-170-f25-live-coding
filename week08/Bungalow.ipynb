{
 "cells": [
  {
   "cell_type": "code",
   "execution_count": null,
   "id": "b8864d49",
   "metadata": {},
   "outputs": [],
   "source": [
    "class Bungalow:\n",
    "\n",
    "    _DEFAULT_WIDTH = 25  # in feet\n",
    "    _DEFAULT_LENGTH = 45  # in feet\n",
    "\n",
    "    def __init__(self, width: int = _DEFAULT_WIDTH, length: int = _DEFAULT_LENGTH):\n",
    "        self._width = width\n",
    "        self._length = length\n",
    "        self._brick_color = None\n",
    "        self._roof_tile_color = None\n",
    "        self._door_on_the_side = False\n",
    "\n",
    "    def __str__(self) -> str:\n",
    "        return f\"This is a {self._brick_color} Bungalow with a {self._roof_tile_color} roof measuring {self._width}x{self._length} ft.\"\n",
    "\n",
    "    \n",
    "    \n",
    "    # Accessors (aka getter methods)\n",
    "    def get_width(self) -> int:\n",
    "        return self._width\n",
    "    \n",
    "    def get_length(self) -> int:\n",
    "        return self._length\n",
    "    \n",
    "    def get_footprint_footage(self) -> int:\n",
    "        return self._width * self._length\n",
    "    \n",
    "    # Mutators (aka setter methods)\n",
    "    def set_brick_color(self, color:str):\n",
    "        self._brick_color = color\n",
    "    def set_roof_color(self, color:str):\n",
    "        self._roof_tile_color = color\n",
    "\n"
   ]
  },
  {
   "cell_type": "code",
   "execution_count": null,
   "id": "e39a8ba3",
   "metadata": {},
   "outputs": [
    {
     "name": "stdout",
     "output_type": "stream",
     "text": [
      "25\n",
      "45\n",
      "1125\n",
      "dark red\n"
     ]
    }
   ],
   "source": [
    "my_house = Bungalow(50, 70)\n",
    "my_house.set_brick_color('dark red')\n",
    "my_house.set_roof_color('green')\n",
    "print(my_house)\n",
    "\n",
    "neighbor_house = Bungalow()\n",
    "neighbor_house.set_brick_color('light yellow')\n",
    "neighbor_house.set_roof_color('brown')\n",
    "print(neighbor_house)\n",
    "\n",
    "if my_house < neighbor_house:\n",
    "    print \"My house is smaller than Troy's\"\n",
    "else:\n",
    "    print \"My house is at least as big as Troy's\""
   ]
  }
 ],
 "metadata": {
  "kernelspec": {
   "display_name": "Python 3",
   "language": "python",
   "name": "python3"
  },
  "language_info": {
   "codemirror_mode": {
    "name": "ipython",
    "version": 3
   },
   "file_extension": ".py",
   "mimetype": "text/x-python",
   "name": "python",
   "nbconvert_exporter": "python",
   "pygments_lexer": "ipython3",
   "version": "3.12.1"
  }
 },
 "nbformat": 4,
 "nbformat_minor": 5
}
