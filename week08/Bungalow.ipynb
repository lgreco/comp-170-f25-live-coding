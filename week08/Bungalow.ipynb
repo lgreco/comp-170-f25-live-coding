{
 "cells": [
  {
   "cell_type": "markdown",
   "id": "7d8aacae",
   "metadata": {},
   "source": [
    "![](./bung.jpg)\n"
   ]
  },
  {
   "cell_type": "code",
   "execution_count": null,
   "id": "223d8bdd",
   "metadata": {},
   "outputs": [
    {
     "name": "stdout",
     "output_type": "stream",
     "text": [
      "odd\n"
     ]
    }
   ],
   "source": [
    "def parity_string(n: int) -> str:\n",
    "    if n % 2 == 0:\n",
    "        return \"even\"\n",
    "    else:\n",
    "        return \"odd\"\n",
    "\n",
    "\n",
    "print(parity_string(3))"
   ]
  },
  {
   "cell_type": "code",
   "execution_count": null,
   "id": "d48bf41b",
   "metadata": {},
   "outputs": [
    {
     "name": "stdout",
     "output_type": "stream",
     "text": [
      "even\n"
     ]
    }
   ],
   "source": [
    "def better_parity_string(n: int) -> str:\n",
    "    result = \"odd\"\n",
    "    if n % 2 == 0:\n",
    "        result = \"even\"\n",
    "    return result\n",
    "\n",
    "\n",
    "print(better_parity_string(32))"
   ]
  },
  {
   "cell_type": "code",
   "execution_count": 9,
   "id": "b8864d49",
   "metadata": {},
   "outputs": [],
   "source": [
    "class Bungalow:\n",
    "\n",
    "    _DEFAULT_WIDTH = 25  # in feet\n",
    "    _DEFAULT_LENGTH = 45  # in feet\n",
    "\n",
    "    def __init__(self, width: int = _DEFAULT_WIDTH, length: int = _DEFAULT_LENGTH):\n",
    "        self._width = width\n",
    "        self._length = length\n",
    "        self._brick_color = None\n",
    "        self._roof_tile_color = None\n",
    "        self._door_on_the_side = False\n",
    "\n",
    "    \n",
    "    \n",
    "    # Accessors (aka getter methods)\n",
    "    def get_width(self) -> int:\n",
    "        return self._width\n",
    "    \n",
    "    def get_length(self) -> int:\n",
    "        return self._length\n",
    "    \n",
    "    def get_footprint_footage(self) -> int:\n",
    "        return self._width * self._length\n",
    "    \n",
    "    # Mutators (aka setter methods)\n",
    "    def set_brick_color(self, color:str):\n",
    "        self._brick_color = color\n",
    "    def set_roof_color(self, color:str):\n",
    "        self._roof_tile_color = color\n",
    "\n"
   ]
  },
  {
   "cell_type": "code",
   "execution_count": 11,
   "id": "e39a8ba3",
   "metadata": {},
   "outputs": [
    {
     "name": "stdout",
     "output_type": "stream",
     "text": [
      "25\n",
      "45\n",
      "1125\n",
      "dark red\n"
     ]
    }
   ],
   "source": [
    "my_house = Bungalow()\n",
    "print(my_house.get_width())\n",
    "print(my_house.get_length())\n",
    "print(my_house.get_footprint_footage())\n",
    "my_house.set_brick_color('dark red')\n",
    "my_house.set_roof_color('green')\n",
    "print(my_house._brick_color)"
   ]
  }
 ],
 "metadata": {
  "kernelspec": {
   "display_name": "Python 3",
   "language": "python",
   "name": "python3"
  },
  "language_info": {
   "codemirror_mode": {
    "name": "ipython",
    "version": 3
   },
   "file_extension": ".py",
   "mimetype": "text/x-python",
   "name": "python",
   "nbconvert_exporter": "python",
   "pygments_lexer": "ipython3",
   "version": "3.12.1"
  }
 },
 "nbformat": 4,
 "nbformat_minor": 5
}
