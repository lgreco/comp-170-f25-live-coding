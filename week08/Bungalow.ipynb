{
 "cells": [
  {
   "cell_type": "code",
   "execution_count": null,
   "id": "b8864d49",
   "metadata": {},
   "outputs": [],
   "source": [
    "class Bungalow:\n",
    "\n",
    "    _DEFAULT_WIDTH = 25  # in feet\n",
    "    _DEFAULT_LENGTH = 45  # in feet\n",
    "    _AVAILABLE_COLORS = ['RED','ORANGE', 'YELLOW', 'GREEN', 'BLUE', 'INDIGO', 'VIOLET']\n",
    "    _DEFAULT_COLOR = _AVAILABLE_COLORS[0]\n",
    "\n",
    "    def __init__(self, width: int = _DEFAULT_WIDTH, length: int = _DEFAULT_LENGTH):\n",
    "        self._width = width\n",
    "        self._length = length\n",
    "        self._brick_color = None\n",
    "        self._roof_tile_color = None\n",
    "        self._door_on_the_side = False\n",
    "\n",
    "    def __str__(self) -> str:\n",
    "        return f\"This is a {self._brick_color} Bungalow with a {self._roof_tile_color} roof measuring {self._width}x{self._length} ft.\"\n",
    "\n",
    "    def __lt__(self, other) -> bool:\n",
    "        \"\"\"As a physicist I think that color, representing wavelengths and \n",
    "        energy absorption characteristics, it makes to use color in chromatic\n",
    "        order as a natural ordering of houses. \n",
    "        \"\"\"\n",
    "        # return self._width * self._length < other.get_width() * other.get_length()\n",
    "        # return self._brick_color < other._brick_color\n",
    "        return self._AVAILABLE_COLORS.index(self._brick_color) < other._AVAILABLE_COLORS.index(other._brick_color)\n",
    "\n",
    "    # Accessors (aka getter methods)\n",
    "    def get_width(self) -> int:\n",
    "        return self._width\n",
    "\n",
    "    def get_length(self) -> int:\n",
    "        return self._length\n",
    "\n",
    "    def get_footprint_footage(self) -> int:\n",
    "        return self._width * self._length\n",
    "\n",
    "    # Mutators (aka setter methods)\n",
    "    def set_brick_color(self, color: str):\n",
    "        if color.upper() not in self._AVAILABLE_COLORS:\n",
    "            color = self._DEFAULT_COLOR\n",
    "        self._brick_color = color\n",
    "\n",
    "    def set_roof_color(self, color: str):\n",
    "        self._roof_tile_color = color"
   ]
  },
  {
   "cell_type": "code",
   "execution_count": 12,
   "id": "e39a8ba3",
   "metadata": {},
   "outputs": [
    {
     "name": "stdout",
     "output_type": "stream",
     "text": [
      "This is a blue Bungalow with a green roof measuring 50x70 ft.\n",
      "This is a yellow Bungalow with a brown roof measuring 25x45 ft.\n",
      "My house is smaller than Troy's\n"
     ]
    }
   ],
   "source": [
    "my_house = Bungalow(50, 70)\n",
    "my_house.set_brick_color(\"blue\")\n",
    "my_house.set_roof_color(\"green\")\n",
    "print(my_house)\n",
    "\n",
    "neighbor_house = Bungalow()\n",
    "neighbor_house.set_brick_color(\"yellow\")\n",
    "neighbor_house.set_roof_color(\"brown\")\n",
    "print(neighbor_house)\n",
    "\n",
    "if my_house < neighbor_house:\n",
    "    print(\"My house is smaller than Troy's\")\n",
    "else:\n",
    "    print(\"My house is at least as big as Troy's\")"
   ]
  }
 ],
 "metadata": {
  "kernelspec": {
   "display_name": ".venv",
   "language": "python",
   "name": "python3"
  },
  "language_info": {
   "codemirror_mode": {
    "name": "ipython",
    "version": 3
   },
   "file_extension": ".py",
   "mimetype": "text/x-python",
   "name": "python",
   "nbconvert_exporter": "python",
   "pygments_lexer": "ipython3",
   "version": "3.12.3"
  }
 },
 "nbformat": 4,
 "nbformat_minor": 5
}
