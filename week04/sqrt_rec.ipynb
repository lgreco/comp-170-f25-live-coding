{
 "cells": [
  {
   "cell_type": "code",
   "execution_count": null,
   "id": "a039f06c",
   "metadata": {},
   "outputs": [],
   "source": [
    "def is_good_enough(x, guess, error):\n",
    "    return abs(guess * guess - x) < error\n",
    "\n",
    "\n",
    "def average(a: float, b: float) -> float:\n",
    "    return (a + b) / 2.0\n",
    "\n",
    "\n",
    "def improve(x: float, guess: float) -> float:\n",
    "    return average(guess, x / guess)\n",
    "\n",
    "\n",
    "def sqrt_iter(x: float, guess: float, error: float) -> float:\n",
    "    if is_good_enough(x, guess, error):\n",
    "        return guess\n",
    "    else:\n",
    "        return sqrt_iter(x, improve(x, guess), error)\n",
    "\n",
    "\n",
    "def sqrt(x: float, error: float = 0.001) -> float:\n",
    "    return sqrt_iter(x, 1.0, error)\n",
    "\n",
    "\n",
    "if __name__ == \"__main__\":\n",
    "    for num in [4, 2, 10, 1234]:\n",
    "        print(f\"√{num:-4d} ≈ {sqrt(num):7.4f}\")"
   ]
  },
  {
   "cell_type": "code",
   "execution_count": 5,
   "id": "428212f3",
   "metadata": {},
   "outputs": [
    {
     "name": "stdout",
     "output_type": "stream",
     "text": [
      "Number 5 is odd.\n"
     ]
    }
   ],
   "source": [
    "def is_even(n: int) -> bool:\n",
    "    return n % 2 == 0\n",
    "\n",
    "def report_is_even(n: int) -> None:\n",
    "    print(f\"Number {n} is {\"even\" if is_even(n) else \"odd\"}.\")\n",
    "\n",
    "report_is_even(5)"
   ]
  }
 ],
 "metadata": {
  "kernelspec": {
   "display_name": "Python 3",
   "language": "python",
   "name": "python3"
  },
  "language_info": {
   "codemirror_mode": {
    "name": "ipython",
    "version": 3
   },
   "file_extension": ".py",
   "mimetype": "text/x-python",
   "name": "python",
   "nbconvert_exporter": "python",
   "pygments_lexer": "ipython3",
   "version": "3.12.1"
  }
 },
 "nbformat": 4,
 "nbformat_minor": 5
}
