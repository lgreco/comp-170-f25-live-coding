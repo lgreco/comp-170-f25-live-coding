{
 "cells": [
  {
   "cell_type": "markdown",
   "id": "3c4686e6",
   "metadata": {},
   "source": [
    "# The Quad!\n",
    "\n",
    "We are asked to solve $ax^2+bx+c=0$. The solution is given as:\n",
    "\n",
    "$$\n",
    "x_{1,2} = \\frac{-b\\pm\\sqrt{b^2-4ac}}{2a}\n",
    "$$\n",
    "\n",
    "with the condition that the equation's _discriminant_ must not be negative, i.e., $b^2-4ac \\ge 0$.\n"
   ]
  },
  {
   "cell_type": "code",
   "execution_count": 2,
   "id": "9db3167e",
   "metadata": {},
   "outputs": [
    {
     "name": "stdout",
     "output_type": "stream",
     "text": [
      "(-0.20871215252208009, -4.7912878474779195)\n"
     ]
    }
   ],
   "source": [
    "from math import sqrt\n",
    "\n",
    "\n",
    "def quad_naive(a: float, b: float, c: float):\n",
    "    x1 = None\n",
    "    x2 = None\n",
    "    if b * b - 4 * a * c >= 0:\n",
    "        # proceed with solution\n",
    "        x1 = (-b + sqrt(b * b - 4 * a * c)) / (2 * a)\n",
    "        x2 = (-b - sqrt(b * b - 4 * a * c)) / (2 * a)\n",
    "    return x1, x2\n",
    "\n",
    "\n",
    "a = 1\n",
    "b = 5\n",
    "c = 1\n",
    "print(quad_naive(a, b, c))"
   ]
  },
  {
   "cell_type": "code",
   "execution_count": 4,
   "id": "9db41f42",
   "metadata": {},
   "outputs": [
    {
     "name": "stdout",
     "output_type": "stream",
     "text": [
      "(-0.20871215252208009, -4.7912878474779195)\n"
     ]
    }
   ],
   "source": [
    "def quad_less_naive(a: float, b: float, c: float):\n",
    "    x1 = None\n",
    "    x2 = None\n",
    "    two_a = 2 * a\n",
    "    discriminant = b * b - 2 * two_a * c\n",
    "    if discriminant >= 0:\n",
    "        sqrt_discriminant = sqrt(discriminant)\n",
    "        # proceed with solution\n",
    "        x1 = (-b + sqrt_discriminant) / (two_a)\n",
    "        x2 = (-b - sqrt_discriminant) / (two_a)\n",
    "    return x1, x2\n",
    "\n",
    "\n",
    "a = 1\n",
    "b = 5\n",
    "c = 1\n",
    "print(quad_less_naive(a, b, c))"
   ]
  },
  {
   "cell_type": "code",
   "execution_count": null,
   "id": "69df8906",
   "metadata": {},
   "outputs": [
    {
     "name": "stdout",
     "output_type": "stream",
     "text": [
      "(-0.20871215252208009, -4.7912878474779195)\n"
     ]
    }
   ],
   "source": [
    "def quad_less_naive_more_annoying(a, b, c):\n",
    "    x1, x2 = None, None\n",
    "    two_a = 2 * a\n",
    "    discriminant = b * b - 2 * two_a * c\n",
    "    if discriminant >= 0:\n",
    "        sqrt_discriminant = sqrt(discriminant)\n",
    "        B = -b / two_a\n",
    "        A = sqrt_discriminant / two_a\n",
    "        x1 = B + A\n",
    "        x2 = B - A\n",
    "    return x1, x2\n",
    "\n",
    "\n",
    "a = 1\n",
    "b = 5\n",
    "c = 1\n",
    "print(quad_less_naive(a, b, c))"
   ]
  }
 ],
 "metadata": {
  "kernelspec": {
   "display_name": "Python 3",
   "language": "python",
   "name": "python3"
  },
  "language_info": {
   "codemirror_mode": {
    "name": "ipython",
    "version": 3
   },
   "file_extension": ".py",
   "mimetype": "text/x-python",
   "name": "python",
   "nbconvert_exporter": "python",
   "pygments_lexer": "ipython3",
   "version": "3.12.1"
  }
 },
 "nbformat": 4,
 "nbformat_minor": 5
}
