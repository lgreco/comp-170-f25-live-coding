{
 "cells": [
  {
   "cell_type": "markdown",
   "id": "354e818a",
   "metadata": {},
   "source": [
    "# Pseudocode\n",
    "\n",
    "For all its importance, pseudocode lacks a formal definition. Wikipedia has an [unattribute definition](https://en.wikipedia.org/wiki/Pseudocode#cite_ref-2) that works for me:\n",
    "\n",
    "*Pseudocode is a detailed yet readable description of what a computer program or algorithm must do, expressed in a formally-styled natural language*\n",
    "\n",
    "With this in mind, let's write some pseudocode that prints the outline of 4x4 square using asterisks. The desired output is\n",
    "```\n",
    "****\n",
    "*  *\n",
    "*  *\n",
    "****\n",
    "```\n",
    "\n",
    "The first thing you notice about the outline above is that it does not look very squarish. That's because in most fonts—even monospace ones—characters are not perfect squares.\n",
    "\n",
    "A monospace font guarantees that every character cell has the same width. But that doesn’t mean width = height. Typically, the width of a character cell is smaller than its height. Many coding fonts have an aspect ratio of about 1:2 (they are twice as tall.) This makes each character look taller and narrower than a square. This matters because text rendering is optimized for readability, not geometric exactness."
   ]
  },
  {
   "cell_type": "code",
   "execution_count": null,
   "id": "04ae7835",
   "metadata": {},
   "outputs": [],
   "source": [
    "outline_character = 'X'\n",
    "fill_character = 'o'\n",
    "n = 5 # number of rows\n",
    "m = 5 # number of columns\n",
    "\n",
    "first = 0\n",
    "last = n-1\n",
    "\n",
    "for line in range(n):\n",
    "    if line == first or line == last:\n",
    "        print(outline_character*m)\n",
    "    else:\n",
    "        print(outline_character + fill_character*(m-2) + outline_character)"
   ]
  }
 ],
 "metadata": {
  "language_info": {
   "name": "python"
  }
 },
 "nbformat": 4,
 "nbformat_minor": 5
}
