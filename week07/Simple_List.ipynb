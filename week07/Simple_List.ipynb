{
 "cells": [
  {
   "cell_type": "code",
   "execution_count": 1,
   "id": "7266e41a",
   "metadata": {},
   "outputs": [
    {
     "name": "stdout",
     "output_type": "stream",
     "text": [
      "\n",
      "The youngest person is 19 years old, the oldest is 58 and the average is 24.375\n"
     ]
    }
   ],
   "source": [
    "age = [19, 20, 19, 58, 19, 21, 20, 19]\n",
    "\n",
    "oldest = 1\n",
    "youngest = 1000\n",
    "sum = 0\n",
    "for i in range(len(age)):\n",
    "  sum = sum + age[i]\n",
    "  if age[i] > oldest:\n",
    "    oldest = age[i]\n",
    "  if age[i] < youngest:\n",
    "    youngest = age[i]\n",
    "avg = sum / len(age)\n",
    "print(f\"\\nThe youngest person is {youngest} years old, the oldest is {oldest} and the average is {avg}\")"
   ]
  },
  {
   "cell_type": "code",
   "execution_count": 4,
   "id": "135bb794",
   "metadata": {},
   "outputs": [
    {
     "name": "stdout",
     "output_type": "stream",
     "text": [
      "[]\n",
      "[19]\n",
      "[19, 19]\n",
      "[19, 19, 20]\n",
      "[19, 19, 20, 58]\n"
     ]
    }
   ],
   "source": [
    "age = []\n",
    "print(age)\n",
    "age.append(19)\n",
    "print(age)\n",
    "age.append(19)\n",
    "print(age)\n",
    "age.append(20)\n",
    "print(age)\n",
    "age.append(58)\n",
    "print(age)"
   ]
  }
 ],
 "metadata": {
  "kernelspec": {
   "display_name": "Python 3",
   "language": "python",
   "name": "python3"
  },
  "language_info": {
   "codemirror_mode": {
    "name": "ipython",
    "version": 3
   },
   "file_extension": ".py",
   "mimetype": "text/x-python",
   "name": "python",
   "nbconvert_exporter": "python",
   "pygments_lexer": "ipython3",
   "version": "3.12.1"
  }
 },
 "nbformat": 4,
 "nbformat_minor": 5
}
